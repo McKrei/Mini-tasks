{
 "cells": [
  {
   "cell_type": "code",
   "execution_count": 13,
   "metadata": {},
   "outputs": [],
   "source": [
    "from itertools import combinations_with_replacement as cwr\n",
    "\n",
    "def find_all(sum_dig, digs):\n",
    "    combs = combinations_with_replacement(list(range(1, 10)), digs)\n",
    "    target = [''.join(str (x) for x in comb) for comb in combs if sum(comb) == sum_dig]\n",
    "    if not target:\n",
    "        return []\n",
    "    return [len(target), int(target[0]), int(target[-1])]"
   ]
  },
  {
   "cell_type": "code",
   "execution_count": 18,
   "metadata": {},
   "outputs": [],
   "source": [
    "def find_all(sum_dig, digs):\n",
    "    result = [''.join(map(str, el)) for el in cwr(range(1, 10), digs) if sum(el) == sum_dig]\n",
    "    if result: return [len(result), int(result[0]), int(result[-1])]\n",
    "    return []\n",
    "\n",
    "def find_all(sum_dig, digs):\n",
    "    return [len(l), int(l[0]), int(l[-1])] if (l := [''.join(map(str, el)) for el in cwr(range(1, 10), digs) if sum(el) == sum_dig]) else []\n",
    "    # return [len(l), int(l[0]), int(l[-1])] if l else []\n",
    "\n"
   ]
  },
  {
   "cell_type": "code",
   "execution_count": 17,
   "metadata": {},
   "outputs": [
    {
     "name": "stdout",
     "output_type": "stream",
     "text": [
      "[0, 1]\n"
     ]
    }
   ],
   "source": [
    "a = i if (i := [i for i in range(2)]) else []\n",
    "print(a)"
   ]
  },
  {
   "cell_type": "code",
   "execution_count": 176,
   "metadata": {},
   "outputs": [
    {
     "data": {
      "text/plain": [
       "[164, 0, 334]"
      ]
     },
     "execution_count": 176,
     "metadata": {},
     "output_type": "execute_result"
    }
   ],
   "source": [
    "def find_all(sum_dig, digs):\n",
    "    def foo(x):\n",
    "        if sum(x) == sum_dig:\n",
    "            return ''.join(map(str, sorted(x)))\n",
    "        return '0'\n",
    "    result = sorted(\n",
    "        [l for l in map(\n",
    "        foo, combinations_with_replacement(range(1, 10), digs))])[1:]\n",
    "    if result: return [len(result), int(result[0]), int(result[-1])]\n",
    "    return []\n",
    "find_all(10, 3)"
   ]
  },
  {
   "cell_type": "code",
   "execution_count": 15,
   "metadata": {},
   "outputs": [],
   "source": [
    "\n",
    "assert find_all(10, 3)  ==  [8, 118, 334]\n",
    "assert find_all(27, 3)  ==  [1, 999, 999]\n",
    "assert find_all(84, 4)  ==  []\n",
    "assert find_all(10, 3)  ==  [8, 118, 334]\n",
    "assert find_all(35, 6)  ==  [123, 116999, 566666]"
   ]
  },
  {
   "cell_type": "code",
   "execution_count": null,
   "metadata": {},
   "outputs": [],
   "source": [
    "for i in sorted(list(set(map(sorted, product(range(1, 10), repeat=3))))):\n",
    "    print(i)\n",
    "    "
   ]
  },
  {
   "cell_type": "code",
   "execution_count": 139,
   "metadata": {},
   "outputs": [],
   "source": [
    "a = set(map(lambda x: tuple(sorted(x)), product(range(1, 10), repeat=7)))"
   ]
  },
  {
   "cell_type": "code",
   "execution_count": 143,
   "metadata": {},
   "outputs": [
    {
     "data": {
      "text/plain": [
       "[1, 4, 9, 16, 25, 36, 49, 64, 81]"
      ]
     },
     "execution_count": 143,
     "metadata": {},
     "output_type": "execute_result"
    }
   ],
   "source": [
    "import itertools\n",
    "list(map(pow, range(1,10), itertools.repeat(2)))"
   ]
  },
  {
   "cell_type": "code",
   "execution_count": 149,
   "metadata": {},
   "outputs": [
    {
     "data": {
      "text/plain": [
       "[144186, 1111599, 9951111]"
      ]
     },
     "execution_count": 149,
     "metadata": {},
     "output_type": "execute_result"
    }
   ],
   "source": [
    "def find_all(s, d):\n",
    "    xs = [x for x in product(range(1, 10), repeat=d) if sum(x) == s]\n",
    "    # xs = [x for x in digs(d) if sum(x) == s]\n",
    "    if not xs:\n",
    "        return []\n",
    "    else:\n",
    "        reduce_int = lambda xs: int(''.join(map(str, xs)))\n",
    "        min = reduce_int(xs[0])\n",
    "        max = reduce_int(xs[-1])    \n",
    "        return [len(xs), min, max]\n",
    "\n",
    "def digs(d, start=1):\n",
    "    if d == 1:\n",
    "        for x in range(start, 10):\n",
    "            yield [x]\n",
    "    else:\n",
    "        for x in range(start, 10):\n",
    "            for y in digs(d - 1, x):\n",
    "                yield [x] + y\n",
    "\n",
    "find_all(27, 7)"
   ]
  },
  {
   "cell_type": "code",
   "execution_count": 157,
   "metadata": {},
   "outputs": [
    {
     "data": {
      "text/plain": [
       "'123456789'"
      ]
     },
     "execution_count": 157,
     "metadata": {},
     "output_type": "execute_result"
    }
   ],
   "source": [
    "''.join(map(str, [1,2,3,4,5,6,7,8,9]))"
   ]
  }
 ],
 "metadata": {
  "kernelspec": {
   "display_name": "Python 3.9.13 ('dsfs')",
   "language": "python",
   "name": "python3"
  },
  "language_info": {
   "codemirror_mode": {
    "name": "ipython",
    "version": 3
   },
   "file_extension": ".py",
   "mimetype": "text/x-python",
   "name": "python",
   "nbconvert_exporter": "python",
   "pygments_lexer": "ipython3",
   "version": "3.9.13"
  },
  "orig_nbformat": 4,
  "vscode": {
   "interpreter": {
    "hash": "f6a81fc9a1fccc0ae1e3a53f2342613250bb06dd40f9af95974c3c4fbbb5e5ee"
   }
  }
 },
 "nbformat": 4,
 "nbformat_minor": 2
}
